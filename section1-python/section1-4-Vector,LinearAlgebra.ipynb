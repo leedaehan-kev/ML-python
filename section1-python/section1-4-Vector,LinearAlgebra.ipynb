{
 "cells": [
  {
   "cell_type": "code",
   "execution_count": 1,
   "id": "0e405dea",
   "metadata": {},
   "outputs": [],
   "source": [
    "import numpy as np"
   ]
  },
  {
   "cell_type": "code",
   "execution_count": 4,
   "id": "7e44f066",
   "metadata": {},
   "outputs": [
    {
     "name": "stdout",
     "output_type": "stream",
     "text": [
      "[[ 58  64]\n",
      " [139 154]]\n"
     ]
    }
   ],
   "source": [
    "#행렬 내적\n",
    "array1=np.array([[1,2,3],\n",
    "                  [4,5,6]])\n",
    "array2=np.array([[7,8],\n",
    "                  [9,10],\n",
    "                  [11,12]])\n",
    "dot_array=np.dot(array1,array2)\n",
    "print(dot_array)"
   ]
  },
  {
   "cell_type": "code",
   "execution_count": 6,
   "id": "03898ca5",
   "metadata": {},
   "outputs": [
    {
     "name": "stdout",
     "output_type": "stream",
     "text": [
      "[[ 58 139]\n",
      " [ 64 154]]\n"
     ]
    }
   ],
   "source": [
    "#전치행렬\n",
    "dot_array_transpose=np.transpose(dot_array)\n",
    "print(dot_array_transpose)"
   ]
  },
  {
   "cell_type": "code",
   "execution_count": null,
   "id": "2602c974",
   "metadata": {},
   "outputs": [],
   "source": []
  }
 ],
 "metadata": {
  "kernelspec": {
   "display_name": "kev",
   "language": "python",
   "name": "kev"
  },
  "language_info": {
   "codemirror_mode": {
    "name": "ipython",
    "version": 3
   },
   "file_extension": ".py",
   "mimetype": "text/x-python",
   "name": "python",
   "nbconvert_exporter": "python",
   "pygments_lexer": "ipython3",
   "version": "3.7.11"
  }
 },
 "nbformat": 4,
 "nbformat_minor": 5
}
