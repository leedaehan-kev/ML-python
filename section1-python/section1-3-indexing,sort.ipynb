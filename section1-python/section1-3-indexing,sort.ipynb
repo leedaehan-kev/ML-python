{
 "cells": [
  {
   "cell_type": "code",
   "execution_count": 1,
   "id": "d0cc091a",
   "metadata": {},
   "outputs": [],
   "source": [
    "import numpy as np"
   ]
  },
  {
   "cell_type": "code",
   "execution_count": 2,
   "id": "4d66a74d",
   "metadata": {},
   "outputs": [
    {
     "name": "stdout",
     "output_type": "stream",
     "text": [
      "[1 2 3 4 5 6 7 8 9]\n"
     ]
    }
   ],
   "source": [
    "array1=np.arange(start=1,stop=10)\n",
    "print(array1)"
   ]
  },
  {
   "cell_type": "code",
   "execution_count": 3,
   "id": "b388c355",
   "metadata": {},
   "outputs": [
    {
     "name": "stdout",
     "output_type": "stream",
     "text": [
      "3\n"
     ]
    }
   ],
   "source": [
    "value=array1[2]\n",
    "print(value)"
   ]
  },
  {
   "cell_type": "code",
   "execution_count": 4,
   "id": "4268c2db",
   "metadata": {},
   "outputs": [
    {
     "name": "stdout",
     "output_type": "stream",
     "text": [
      "9 8\n"
     ]
    }
   ],
   "source": [
    "print(array1[-1],array1[-2])"
   ]
  },
  {
   "cell_type": "code",
   "execution_count": 5,
   "id": "facfa0a7",
   "metadata": {},
   "outputs": [],
   "source": [
    "array2d=array1.reshape(-1,3)"
   ]
  },
  {
   "cell_type": "code",
   "execution_count": 6,
   "id": "435f57de",
   "metadata": {},
   "outputs": [
    {
     "name": "stdout",
     "output_type": "stream",
     "text": [
      "[[1 2 3]\n",
      " [4 5 6]\n",
      " [7 8 9]]\n"
     ]
    }
   ],
   "source": [
    "print(array2d)"
   ]
  },
  {
   "cell_type": "code",
   "execution_count": 7,
   "id": "7343e3eb",
   "metadata": {},
   "outputs": [
    {
     "name": "stdout",
     "output_type": "stream",
     "text": [
      "2\n"
     ]
    }
   ],
   "source": [
    "print(array2d[0,1])"
   ]
  },
  {
   "cell_type": "code",
   "execution_count": 8,
   "id": "9f40a7b4",
   "metadata": {},
   "outputs": [
    {
     "name": "stdout",
     "output_type": "stream",
     "text": [
      "[[1 2]\n",
      " [4 5]]\n"
     ]
    }
   ],
   "source": [
    "print(array2d[0:2,0:2])"
   ]
  },
  {
   "cell_type": "code",
   "execution_count": 9,
   "id": "50e3182a",
   "metadata": {},
   "outputs": [
    {
     "name": "stdout",
     "output_type": "stream",
     "text": [
      "[1 4]\n"
     ]
    }
   ],
   "source": [
    "print(array2d[0:2,0])"
   ]
  },
  {
   "cell_type": "code",
   "execution_count": 10,
   "id": "bbe35dc0",
   "metadata": {},
   "outputs": [
    {
     "name": "stdout",
     "output_type": "stream",
     "text": [
      "[1 2 3]\n"
     ]
    }
   ],
   "source": [
    "print(array2d[0])"
   ]
  },
  {
   "cell_type": "code",
   "execution_count": 11,
   "id": "5dbc2063",
   "metadata": {},
   "outputs": [
    {
     "name": "stdout",
     "output_type": "stream",
     "text": [
      "[4 5 6]\n"
     ]
    }
   ],
   "source": [
    "print(array2d[1])"
   ]
  },
  {
   "cell_type": "code",
   "execution_count": 12,
   "id": "9470930c",
   "metadata": {},
   "outputs": [
    {
     "name": "stdout",
     "output_type": "stream",
     "text": [
      "(3,)\n"
     ]
    }
   ],
   "source": [
    "print(array2d[0].shape)"
   ]
  },
  {
   "cell_type": "code",
   "execution_count": 13,
   "id": "07ef5550",
   "metadata": {},
   "outputs": [],
   "source": [
    "array3=array1[array1>5]"
   ]
  },
  {
   "cell_type": "code",
   "execution_count": 14,
   "id": "3a25f612",
   "metadata": {},
   "outputs": [
    {
     "name": "stdout",
     "output_type": "stream",
     "text": [
      "[6 7 8 9]\n"
     ]
    }
   ],
   "source": [
    "print(array3)"
   ]
  },
  {
   "cell_type": "code",
   "execution_count": 18,
   "id": "07b31e8c",
   "metadata": {},
   "outputs": [],
   "source": [
    "# np.sort(ndarray): 인자로 들어온 원행렬은 그대로 유지, 행렬의 정렬된 행렬 반환\n",
    "# ndarray.sort(): 원행렬 자체를 정렬한 형태로 변환, 반환 값 None\n",
    "# default는 오름차, 내림차는 [::-1]\n",
    "# 2차원 배열에서는 앞에서 다룬 axis를 기준으로 sort함\n",
    "# axis = 0 은 row\n",
    "# axis = 1 은 col"
   ]
  },
  {
   "cell_type": "code",
   "execution_count": 19,
   "id": "70c69b65",
   "metadata": {},
   "outputs": [],
   "source": [
    "# argsort(): 원본 행렬 정렬시 정렬된 행렬의 원래 인덱스가 필요할때\n",
    "# np.argsort()를 이용\n",
    "# 인덱스 값이 아니라 index 자체가 필요할 경우 사용!!!!!"
   ]
  },
  {
   "cell_type": "code",
   "execution_count": 17,
   "id": "0ece7309",
   "metadata": {},
   "outputs": [
    {
     "name": "stdout",
     "output_type": "stream",
     "text": [
      "[3 1 9 5]\n",
      "[1 3 5 9]\n",
      "[1 3 5 9]\n"
     ]
    }
   ],
   "source": [
    "arg_array=np.array([3,1,9,5])\n",
    "sort_array1=np.sort(arg_array)\n",
    "print(arg_array)\n",
    "print(sort_array1)\n",
    "arg_array.sort()\n",
    "print(arg_array)"
   ]
  },
  {
   "cell_type": "code",
   "execution_count": 20,
   "id": "6cd88499",
   "metadata": {},
   "outputs": [
    {
     "name": "stdout",
     "output_type": "stream",
     "text": [
      "[9 5 3 1]\n"
     ]
    }
   ],
   "source": [
    "sort_array1_desc=np.sort(arg_array)[::-1]\n",
    "print(sort_array1_desc)"
   ]
  },
  {
   "cell_type": "code",
   "execution_count": 22,
   "id": "086ce14f",
   "metadata": {},
   "outputs": [
    {
     "name": "stdout",
     "output_type": "stream",
     "text": [
      "[[ 7  1]\n",
      " [ 8 12]]\n",
      "[[ 8 12]\n",
      " [ 1  7]]\n"
     ]
    }
   ],
   "source": [
    "array2d=np.array([[8,12],\n",
    "                 [7,1]])\n",
    "sort_array2d_axis0=np.sort(array2d, axis=0)\n",
    "print(sort_array2d_axis0)\n",
    "sort_array2d_axis1=np.sort(array2d, axis=1)\n",
    "print(sort_array2d_axis1)"
   ]
  },
  {
   "cell_type": "code",
   "execution_count": null,
   "id": "10819f05",
   "metadata": {},
   "outputs": [],
   "source": []
  }
 ],
 "metadata": {
  "kernelspec": {
   "display_name": "kev",
   "language": "python",
   "name": "kev"
  },
  "language_info": {
   "codemirror_mode": {
    "name": "ipython",
    "version": 3
   },
   "file_extension": ".py",
   "mimetype": "text/x-python",
   "name": "python",
   "nbconvert_exporter": "python",
   "pygments_lexer": "ipython3",
   "version": "3.7.11"
  }
 },
 "nbformat": 4,
 "nbformat_minor": 5
}
